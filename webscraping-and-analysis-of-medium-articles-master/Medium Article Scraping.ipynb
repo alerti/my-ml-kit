{
 "cells": [
  {
   "cell_type": "markdown",
   "metadata": {},
   "source": [
    "# Web Scraping Medium articles with tags ML/DL/AI using BS & SELENIUM"
   ]
  },
  {
   "cell_type": "code",
   "execution_count": 111,
   "metadata": {},
   "outputs": [],
   "source": [
    "#import all libraries\n",
    "import urllib.request\n",
    "import requests\n",
    "import bs4\n",
    "from bs4 import BeautifulSoup"
   ]
  },
  {
   "cell_type": "code",
   "execution_count": 637,
   "metadata": {
    "collapsed": true
   },
   "outputs": [],
   "source": [
    "#save the links we wanna scrape\n",
    "arificial_intelligence = \"https://medium.com/tag/artificial-intelligence\"\n",
    "machine_learning = \"https://medium.com/tag/machine-learning\"\n",
    "deep_learning = \"https://medium.com/tag/deep-learning\""
   ]
  },
  {
   "cell_type": "code",
   "execution_count": 377,
   "metadata": {
    "collapsed": true
   },
   "outputs": [],
   "source": [
    "from selenium import webdriver"
   ]
  },
  {
   "cell_type": "markdown",
   "metadata": {},
   "source": [
    "### Dynamic loading with selenium"
   ]
  },
  {
   "cell_type": "code",
   "execution_count": 461,
   "metadata": {},
   "outputs": [],
   "source": [
    "driver = webdriver.Chrome('C:/Users/Sangarshanan Veera/Desktop/chromedriver.exe')\n",
    "driver.get(arificial_intelligence)"
   ]
  },
  {
   "cell_type": "markdown",
   "metadata": {},
   "source": [
    "### Load the webpage that is displayed till you reach the end to collect all tagged articles"
   ]
  },
  {
   "cell_type": "code",
   "execution_count": 463,
   "metadata": {
    "collapsed": true
   },
   "outputs": [],
   "source": [
    "res = driver.execute_script(\"return document.documentElement.outerHTML\")\n",
    "driver.quit()"
   ]
  },
  {
   "cell_type": "code",
   "execution_count": 464,
   "metadata": {
    "collapsed": true
   },
   "outputs": [],
   "source": [
    "soup = BeautifulSoup(res, 'lxml')"
   ]
  },
  {
   "cell_type": "markdown",
   "metadata": {},
   "source": [
    "# Articles tagged in ARTIFICIAL INTELLIGENCE"
   ]
  },
  {
   "cell_type": "code",
   "execution_count": 468,
   "metadata": {},
   "outputs": [],
   "source": [
    "# Input all work data into the array\n",
    "work=[]\n",
    "for my_tag in soup.find_all(class_=\"ds-link ds-link--styleSubtle link--darken link--accent u-accentColor--textNormal\"):\n",
    "    work.append(my_tag.text)"
   ]
  },
  {
   "cell_type": "code",
   "execution_count": 469,
   "metadata": {},
   "outputs": [],
   "source": [
    "para=[]\n",
    "for my_tag in soup.find_all(True,{'class':['graf graf--h4 graf-after--h3 graf--trailing graf--subtitle','graf graf--p graf-after--figure','graf graf--p graf-after--h3 graf--trailing']}):\n",
    "    para.append(my_tag.text)"
   ]
  },
  {
   "cell_type": "code",
   "execution_count": 546,
   "metadata": {},
   "outputs": [
    {
     "data": {
      "text/plain": [
       "23"
      ]
     },
     "execution_count": 546,
     "metadata": {},
     "output_type": "execute_result"
    }
   ],
   "source": [
    "len(para)"
   ]
  },
  {
   "cell_type": "code",
   "execution_count": 470,
   "metadata": {},
   "outputs": [],
   "source": [
    "title=[]\n",
    "for my_tag in soup.find_all(True,{'class':['graf graf--h3 graf-after--figure graf--title','graf graf--h3 graf--leading graf--title','graf graf--h3 graf-after--figure graf--trailing graf--title']}):\n",
    "    title.append(my_tag.text)"
   ]
  },
  {
   "cell_type": "code",
   "execution_count": 543,
   "metadata": {},
   "outputs": [
    {
     "data": {
      "text/plain": [
       "'GAME-CHANGING TRENDS TO LOOK OUT FOR WITH\\xa0AI'"
      ]
     },
     "execution_count": 543,
     "metadata": {},
     "output_type": "execute_result"
    }
   ],
   "source": [
    "title[0]"
   ]
  },
  {
   "cell_type": "code",
   "execution_count": 471,
   "metadata": {},
   "outputs": [],
   "source": [
    "read=[]\n",
    "for my_tag in soup.find_all(class_=\"readingTime\"):\n",
    "    read.append(my_tag.get('title'))"
   ]
  },
  {
   "cell_type": "markdown",
   "metadata": {},
   "source": [
    "### Input the number of votes, name, date and other information into seperate arrays"
   ]
  },
  {
   "cell_type": "code",
   "execution_count": 472,
   "metadata": {},
   "outputs": [],
   "source": [
    "upvotes=[]\n",
    "for my_tag in soup.find_all('span',{'class':'u-textAlignCenter u-relative u-background js-actionMultirecommendCount u-marginLeft5'}):\n",
    "    upvotes.append(my_tag.text)"
   ]
  },
  {
   "cell_type": "code",
   "execution_count": 473,
   "metadata": {},
   "outputs": [],
   "source": [
    "date=[]\n",
    "for my_tag in soup.find_all('time'):\n",
    "    date.append(my_tag.text)"
   ]
  },
  {
   "cell_type": "code",
   "execution_count": 474,
   "metadata": {
    "scrolled": false
   },
   "outputs": [],
   "source": [
    "name = []\n",
    "for my_tag in soup.find_all(class_=\"ds-link ds-link--styleSubtle link link--darken link--accent u-accentColor--textNormal u-accentColor--textDarken\"):\n",
    "    name.append(my_tag.text)"
   ]
  },
  {
   "cell_type": "code",
   "execution_count": 550,
   "metadata": {
    "scrolled": false
   },
   "outputs": [],
   "source": [
    "content=[]\n",
    "alllink=[]\n",
    "for my_tag in soup.find_all(class_=\"postArticle postArticle--short js-postArticle js-trackedPost\"):\n",
    "        content.append(my_tag.text)\n",
    "        for link in my_tag.find_all('a'):\n",
    "            alllink.append(link.get('href'))"
   ]
  },
  {
   "cell_type": "code",
   "execution_count": 551,
   "metadata": {},
   "outputs": [],
   "source": [
    "for i in range(0,len(content)):\n",
    "    content[i]=content[i].replace(name[i],'')\n",
    "    content[i]=content[i].replace(date[i],'')\n",
    "    content[i]=content[i].replace(upvotes[i],'')\n",
    "    content[i]=content[i].replace(title[i],'')\n",
    "    content[i]=content[i].replace('…Read more…','*')\n",
    "    content[i]=content[i].replace('Read more…','*')\n",
    "    content[i]=content[i].replace('\\xa0',' ')\n",
    "    content[i]=content[i].replace(' in ', '')\n",
    "    for tag in work:\n",
    "        content[i] = content[i].replace(tag, '')\n",
    "    content[i]=content[i].split('*')"
   ]
  },
  {
   "cell_type": "code",
   "execution_count": 552,
   "metadata": {},
   "outputs": [
    {
     "data": {
      "text/plain": [
       "50"
      ]
     },
     "execution_count": 552,
     "metadata": {},
     "output_type": "execute_result"
    }
   ],
   "source": [
    "len(content)"
   ]
  },
  {
   "cell_type": "code",
   "execution_count": 553,
   "metadata": {},
   "outputs": [],
   "source": [
    "body=[]\n",
    "for i in range(0,len(content)):\n",
    "    body.append(content[i][0])"
   ]
  },
  {
   "cell_type": "code",
   "execution_count": 554,
   "metadata": {},
   "outputs": [
    {
     "data": {
      "text/plain": [
       "50"
      ]
     },
     "execution_count": 554,
     "metadata": {},
     "output_type": "execute_result"
    }
   ],
   "source": [
    "len(body)"
   ]
  },
  {
   "cell_type": "markdown",
   "metadata": {},
   "source": [
    "### Check if all arrays have an equal length of 50 (There are 50 articles loaded)"
   ]
  },
  {
   "cell_type": "code",
   "execution_count": 524,
   "metadata": {},
   "outputs": [],
   "source": [
    "res =[]\n",
    "for i in range(0,len(content)):\n",
    "    if (len(content[i]) == 1):\n",
    "        res.append('')\n",
    "    else:\n",
    "        res.append(content[i][1])"
   ]
  },
  {
   "cell_type": "markdown",
   "metadata": {},
   "source": [
    "### Accept the links for that redirects to the articles (Read more...portion)"
   ]
  },
  {
   "cell_type": "code",
   "execution_count": 601,
   "metadata": {},
   "outputs": [],
   "source": [
    "links=[]\n",
    "for my_tag in soup.find_all(class_=\"button button--smaller button--chromeless u-baseColor--buttonNormal\"):\n",
    "        links.append(my_tag.get('href'))"
   ]
  },
  {
   "cell_type": "markdown",
   "metadata": {},
   "source": [
    "### Add the mising link in the 47th index"
   ]
  },
  {
   "cell_type": "code",
   "execution_count": 629,
   "metadata": {},
   "outputs": [],
   "source": [
    "## add missing link\n",
    "links.insert(47,'https://medium.com/@matrixainetwork')"
   ]
  },
  {
   "cell_type": "code",
   "execution_count": 531,
   "metadata": {
    "collapsed": true
   },
   "outputs": [],
   "source": [
    "import pandas as pd"
   ]
  },
  {
   "cell_type": "markdown",
   "metadata": {},
   "source": [
    "## Convert all arrays into a Pandas Dataframe"
   ]
  },
  {
   "cell_type": "code",
   "execution_count": 631,
   "metadata": {},
   "outputs": [],
   "source": [
    "data = pd.DataFrame({'1.Tag':'Artificial Intelligence','2.Name':name,'3.Title':title,'4.Body':body,'5.Upvotes':upvotes,'6.Date':date,'7.Comments':res,'8.Link':links}) "
   ]
  },
  {
   "cell_type": "code",
   "execution_count": 719,
   "metadata": {
    "scrolled": false
   },
   "outputs": [
    {
     "data": {
      "text/html": [
       "<div>\n",
       "<style>\n",
       "    .dataframe thead tr:only-child th {\n",
       "        text-align: right;\n",
       "    }\n",
       "\n",
       "    .dataframe thead th {\n",
       "        text-align: left;\n",
       "    }\n",
       "\n",
       "    .dataframe tbody tr th {\n",
       "        vertical-align: top;\n",
       "    }\n",
       "</style>\n",
       "<table border=\"1\" class=\"dataframe\">\n",
       "  <thead>\n",
       "    <tr style=\"text-align: right;\">\n",
       "      <th></th>\n",
       "      <th>1.Tag</th>\n",
       "      <th>2.Name</th>\n",
       "      <th>3.Title</th>\n",
       "      <th>4.Body</th>\n",
       "      <th>5.Upvotes</th>\n",
       "      <th>6.Date</th>\n",
       "      <th>7.Comments</th>\n",
       "      <th>8.Link</th>\n",
       "    </tr>\n",
       "  </thead>\n",
       "  <tbody>\n",
       "    <tr>\n",
       "      <th>0</th>\n",
       "      <td>Artificial Intelligence</td>\n",
       "      <td>WiseWolf Fund</td>\n",
       "      <td>GAME-CHANGING TRENDS TO LOOK OUT FOR WITH AI</td>\n",
       "      <td>Artificial Intelligence is a state-of-the-art ...</td>\n",
       "      <td>12.9K</td>\n",
       "      <td>Apr 30</td>\n",
       "      <td>10 responses</td>\n",
       "      <td>https://medium.com/@wisewolf_fund/unique-trend...</td>\n",
       "    </tr>\n",
       "    <tr>\n",
       "      <th>1</th>\n",
       "      <td>Artificial Intelligence</td>\n",
       "      <td>Justin Lee</td>\n",
       "      <td>Chatbots were the next big thing: what happened?</td>\n",
       "      <td>Oh, how the headlines blared:“…the 2016 bot</td>\n",
       "      <td>7.7K</td>\n",
       "      <td>Jun 5</td>\n",
       "      <td>41 responses</td>\n",
       "      <td>https://medium.com/swlh/chatbots-were-the-next...</td>\n",
       "    </tr>\n",
       "    <tr>\n",
       "      <th>2</th>\n",
       "      <td>Artificial Intelligence</td>\n",
       "      <td>Emmanuel Ameisen</td>\n",
       "      <td>Reinforcement Learning from scratch</td>\n",
       "      <td>Inspired by a great tutorial at O’Reilly AI</td>\n",
       "      <td>907</td>\n",
       "      <td>Jun 7</td>\n",
       "      <td>1 response</td>\n",
       "      <td>https://blog.insightdatascience.com/reinforcem...</td>\n",
       "    </tr>\n",
       "    <tr>\n",
       "      <th>3</th>\n",
       "      <td>Artificial Intelligence</td>\n",
       "      <td>Irhum Shafkat</td>\n",
       "      <td>Intuitively Understanding Convolutions for Dee...</td>\n",
       "      <td>Exploring the strong visual hierarchies that</td>\n",
       "      <td>1.92K</td>\n",
       "      <td>Jun 1</td>\n",
       "      <td>2 responses</td>\n",
       "      <td>https://towardsdatascience.com/intuitively-und...</td>\n",
       "    </tr>\n",
       "    <tr>\n",
       "      <th>4</th>\n",
       "      <td>Artificial Intelligence</td>\n",
       "      <td>Sam Drozdov</td>\n",
       "      <td>An intro to Machine Learning for designers</td>\n",
       "      <td>The basics of machine learning and how to appl...</td>\n",
       "      <td>2.3K</td>\n",
       "      <td>May 30</td>\n",
       "      <td>10 responses</td>\n",
       "      <td>https://uxdesign.cc/an-intro-to-machine-learni...</td>\n",
       "    </tr>\n",
       "  </tbody>\n",
       "</table>\n",
       "</div>"
      ],
      "text/plain": [
       "                     1.Tag            2.Name  \\\n",
       "0  Artificial Intelligence     WiseWolf Fund   \n",
       "1  Artificial Intelligence        Justin Lee   \n",
       "2  Artificial Intelligence  Emmanuel Ameisen   \n",
       "3  Artificial Intelligence     Irhum Shafkat   \n",
       "4  Artificial Intelligence       Sam Drozdov   \n",
       "\n",
       "                                             3.Title  \\\n",
       "0       GAME-CHANGING TRENDS TO LOOK OUT FOR WITH AI   \n",
       "1   Chatbots were the next big thing: what happened?   \n",
       "2                Reinforcement Learning from scratch   \n",
       "3  Intuitively Understanding Convolutions for Dee...   \n",
       "4         An intro to Machine Learning for designers   \n",
       "\n",
       "                                              4.Body 5.Upvotes  6.Date  \\\n",
       "0  Artificial Intelligence is a state-of-the-art ...     12.9K  Apr 30   \n",
       "1        Oh, how the headlines blared:“…the 2016 bot      7.7K   Jun 5   \n",
       "2        Inspired by a great tutorial at O’Reilly AI       907   Jun 7   \n",
       "3       Exploring the strong visual hierarchies that     1.92K   Jun 1   \n",
       "4  The basics of machine learning and how to appl...      2.3K  May 30   \n",
       "\n",
       "     7.Comments                                             8.Link  \n",
       "0  10 responses  https://medium.com/@wisewolf_fund/unique-trend...  \n",
       "1  41 responses  https://medium.com/swlh/chatbots-were-the-next...  \n",
       "2    1 response  https://blog.insightdatascience.com/reinforcem...  \n",
       "3   2 responses  https://towardsdatascience.com/intuitively-und...  \n",
       "4  10 responses  https://uxdesign.cc/an-intro-to-machine-learni...  "
      ]
     },
     "execution_count": 719,
     "metadata": {},
     "output_type": "execute_result"
    }
   ],
   "source": [
    "data.head()"
   ]
  },
  {
   "cell_type": "markdown",
   "metadata": {},
   "source": [
    "# Articles tagged in MACHINE LEARNING"
   ]
  },
  {
   "cell_type": "code",
   "execution_count": 710,
   "metadata": {},
   "outputs": [],
   "source": [
    "driver = webdriver.Chrome('C:/Users/Sangarshanan Veera/Desktop/chromedriver.exe')\n",
    "driver.get(machine_learning)"
   ]
  },
  {
   "cell_type": "code",
   "execution_count": 711,
   "metadata": {
    "collapsed": true
   },
   "outputs": [],
   "source": [
    "res = driver.execute_script(\"return document.documentElement.outerHTML\")\n",
    "driver.quit()"
   ]
  },
  {
   "cell_type": "code",
   "execution_count": 712,
   "metadata": {
    "collapsed": true
   },
   "outputs": [],
   "source": [
    "soup = BeautifulSoup(res, 'lxml')"
   ]
  },
  {
   "cell_type": "markdown",
   "metadata": {},
   "source": [
    "## Repeat the process again for the ML tag"
   ]
  },
  {
   "cell_type": "code",
   "execution_count": 713,
   "metadata": {
    "collapsed": true
   },
   "outputs": [],
   "source": [
    "work=[]\n",
    "for my_tag in soup.find_all(class_=\"ds-link ds-link--styleSubtle link--darken link--accent u-accentColor--textNormal\"):\n",
    "    work.append(my_tag.text)\n",
    "para=[]\n",
    "for my_tag in soup.find_all(True,{'class':['graf graf--h4 graf-after--h3 graf--trailing graf--subtitle','graf graf--p graf-after--figure','graf graf--p graf-after--h3 graf--trailing']}):\n",
    "    para.append(my_tag.text)\n",
    "title=[]\n",
    "for my_tag in soup.find_all(True,{'class':['graf graf--h3 graf-after--figure graf--title','graf graf--h3 graf--leading graf--title','graf graf--h3 graf-after--figure graf--trailing graf--title']}):\n",
    "    title.append(my_tag.text)\n",
    "read=[]\n",
    "for my_tag in soup.find_all(class_=\"readingTime\"):\n",
    "    read.append(my_tag.get('title'))\n",
    "upvotes=[]\n",
    "for my_tag in soup.find_all('span',{'class':'u-textAlignCenter u-relative u-background js-actionMultirecommendCount u-marginLeft5'}):\n",
    "    upvotes.append(my_tag.text)\n",
    "date=[]\n",
    "for my_tag in soup.find_all('time'):\n",
    "    date.append(my_tag.text)\n",
    "name = []\n",
    "for my_tag in soup.find_all(class_=\"ds-link ds-link--styleSubtle link link--darken link--accent u-accentColor--textNormal u-accentColor--textDarken\"):\n",
    "    name.append(my_tag.text)\n",
    "content=[]\n",
    "alllink=[]\n",
    "for my_tag in soup.find_all(class_=\"postArticle postArticle--short js-postArticle js-trackedPost\"):\n",
    "        content.append(my_tag.text)\n",
    "        for link in my_tag.find_all('a'):\n",
    "            alllink.append(link.get('href'))\n",
    "for i in range(0,len(content)):\n",
    "    content[i]=content[i].replace(name[i],'')\n",
    "    content[i]=content[i].replace(date[i],'')\n",
    "    content[i]=content[i].replace(upvotes[i],'')\n",
    "    content[i]=content[i].replace(title[i],'')\n",
    "    content[i]=content[i].replace('…Read more…','*')\n",
    "    content[i]=content[i].replace('Read more…','*')\n",
    "    content[i]=content[i].replace('\\xa0',' ')\n",
    "    content[i]=content[i].replace(' in ', '')\n",
    "    for tag in work:\n",
    "        content[i] = content[i].replace(tag, '')\n",
    "    content[i]=content[i].split('*')\n",
    "body=[]\n",
    "for i in range(0,len(content)):\n",
    "    body.append(content[i][0])\n",
    "\n",
    "res =[]\n",
    "for i in range(0,len(content)):\n",
    "    if (len(content[i]) == 1):\n",
    "        res.append('')\n",
    "    else:\n",
    "        res.append(content[i][1])\n",
    "\n",
    "links=[]\n",
    "for my_tag in soup.find_all(class_=\"button button--smaller button--chromeless u-baseColor--buttonNormal\"):\n",
    "        links.append(my_tag.get('href'))"
   ]
  },
  {
   "cell_type": "markdown",
   "metadata": {},
   "source": [
    "### No length issues...so directly include into pandas dataframe"
   ]
  },
  {
   "cell_type": "code",
   "execution_count": 714,
   "metadata": {},
   "outputs": [],
   "source": [
    "data1 = pd.DataFrame({'1.Tag':'Machine Learning','2.Name':name,'3.Title':title,'4.Body':body,'5.Upvotes':upvotes,'6.Date':date,'7.Comments':res,'8.Link':links}) "
   ]
  },
  {
   "cell_type": "code",
   "execution_count": 718,
   "metadata": {},
   "outputs": [
    {
     "data": {
      "text/html": [
       "<div>\n",
       "<style>\n",
       "    .dataframe thead tr:only-child th {\n",
       "        text-align: right;\n",
       "    }\n",
       "\n",
       "    .dataframe thead th {\n",
       "        text-align: left;\n",
       "    }\n",
       "\n",
       "    .dataframe tbody tr th {\n",
       "        vertical-align: top;\n",
       "    }\n",
       "</style>\n",
       "<table border=\"1\" class=\"dataframe\">\n",
       "  <thead>\n",
       "    <tr style=\"text-align: right;\">\n",
       "      <th></th>\n",
       "      <th>1.Tag</th>\n",
       "      <th>2.Name</th>\n",
       "      <th>3.Title</th>\n",
       "      <th>4.Body</th>\n",
       "      <th>5.Upvotes</th>\n",
       "      <th>6.Date</th>\n",
       "      <th>7.Comments</th>\n",
       "      <th>8.Link</th>\n",
       "    </tr>\n",
       "  </thead>\n",
       "  <tbody>\n",
       "    <tr>\n",
       "      <th>0</th>\n",
       "      <td>Machine Learning</td>\n",
       "      <td>Justin Lee</td>\n",
       "      <td>Chatbots were the next big thing: what happened?</td>\n",
       "      <td>Oh, how the headlines blared:“…the 2016 bot</td>\n",
       "      <td>7.9K</td>\n",
       "      <td>Jun 5</td>\n",
       "      <td>42 responses</td>\n",
       "      <td>https://medium.com/swlh/chatbots-were-the-next...</td>\n",
       "    </tr>\n",
       "    <tr>\n",
       "      <th>1</th>\n",
       "      <td>Machine Learning</td>\n",
       "      <td>Conor Dewey</td>\n",
       "      <td>Python for Data Science: 8 Concepts You May Ha...</td>\n",
       "      <td>Mastering the little thingsPython</td>\n",
       "      <td>1.1K</td>\n",
       "      <td>Jun 5</td>\n",
       "      <td>5 responses</td>\n",
       "      <td>https://towardsdatascience.com/python-for-data...</td>\n",
       "    </tr>\n",
       "    <tr>\n",
       "      <th>2</th>\n",
       "      <td>Machine Learning</td>\n",
       "      <td>Emmanuel Ameisen</td>\n",
       "      <td>Reinforcement Learning from scratch</td>\n",
       "      <td>Inspired by a great tutorial at O’Reilly AI</td>\n",
       "      <td>912</td>\n",
       "      <td>Jun 7</td>\n",
       "      <td>2 responses</td>\n",
       "      <td>https://blog.insightdatascience.com/reinforcem...</td>\n",
       "    </tr>\n",
       "    <tr>\n",
       "      <th>3</th>\n",
       "      <td>Machine Learning</td>\n",
       "      <td>Irhum Shafkat</td>\n",
       "      <td>Intuitively Understanding Convolutions for Dee...</td>\n",
       "      <td>Exploring the strong visual hierarchies that</td>\n",
       "      <td>1.98K</td>\n",
       "      <td>Jun 1</td>\n",
       "      <td>2 responses</td>\n",
       "      <td>https://towardsdatascience.com/intuitively-und...</td>\n",
       "    </tr>\n",
       "    <tr>\n",
       "      <th>4</th>\n",
       "      <td>Machine Learning</td>\n",
       "      <td>Gant Laborde</td>\n",
       "      <td>Machine Learning: how to go from Zero to Hero</td>\n",
       "      <td>Start with “Why?” and end with “I’m ready!”</td>\n",
       "      <td>1.1K</td>\n",
       "      <td>Jun 6</td>\n",
       "      <td>2 responses</td>\n",
       "      <td>https://medium.freecodecamp.org/machine-learni...</td>\n",
       "    </tr>\n",
       "  </tbody>\n",
       "</table>\n",
       "</div>"
      ],
      "text/plain": [
       "              1.Tag            2.Name  \\\n",
       "0  Machine Learning        Justin Lee   \n",
       "1  Machine Learning       Conor Dewey   \n",
       "2  Machine Learning  Emmanuel Ameisen   \n",
       "3  Machine Learning     Irhum Shafkat   \n",
       "4  Machine Learning      Gant Laborde   \n",
       "\n",
       "                                             3.Title  \\\n",
       "0   Chatbots were the next big thing: what happened?   \n",
       "1  Python for Data Science: 8 Concepts You May Ha...   \n",
       "2                Reinforcement Learning from scratch   \n",
       "3  Intuitively Understanding Convolutions for Dee...   \n",
       "4      Machine Learning: how to go from Zero to Hero   \n",
       "\n",
       "                                         4.Body 5.Upvotes 6.Date  \\\n",
       "0   Oh, how the headlines blared:“…the 2016 bot      7.9K  Jun 5   \n",
       "1             Mastering the little thingsPython      1.1K  Jun 5   \n",
       "2   Inspired by a great tutorial at O’Reilly AI       912  Jun 7   \n",
       "3  Exploring the strong visual hierarchies that     1.98K  Jun 1   \n",
       "4   Start with “Why?” and end with “I’m ready!”      1.1K  Jun 6   \n",
       "\n",
       "     7.Comments                                             8.Link  \n",
       "0  42 responses  https://medium.com/swlh/chatbots-were-the-next...  \n",
       "1   5 responses  https://towardsdatascience.com/python-for-data...  \n",
       "2   2 responses  https://blog.insightdatascience.com/reinforcem...  \n",
       "3   2 responses  https://towardsdatascience.com/intuitively-und...  \n",
       "4   2 responses  https://medium.freecodecamp.org/machine-learni...  "
      ]
     },
     "execution_count": 718,
     "metadata": {},
     "output_type": "execute_result"
    }
   ],
   "source": [
    "data1.head()"
   ]
  },
  {
   "cell_type": "markdown",
   "metadata": {},
   "source": [
    "# Articles tagged in DEEP LEARNING"
   ]
  },
  {
   "cell_type": "code",
   "execution_count": 650,
   "metadata": {
    "collapsed": true
   },
   "outputs": [],
   "source": [
    "driver = webdriver.Chrome('C:/Users/Sangarshanan Veera/Desktop/chromedriver.exe')\n",
    "driver.get(deep_learning)"
   ]
  },
  {
   "cell_type": "code",
   "execution_count": 651,
   "metadata": {
    "collapsed": true
   },
   "outputs": [],
   "source": [
    "res = driver.execute_script(\"return document.documentElement.outerHTML\")\n",
    "driver.quit()"
   ]
  },
  {
   "cell_type": "code",
   "execution_count": 652,
   "metadata": {
    "collapsed": true
   },
   "outputs": [],
   "source": [
    "soup = BeautifulSoup(res, 'lxml')"
   ]
  },
  {
   "cell_type": "code",
   "execution_count": 704,
   "metadata": {},
   "outputs": [],
   "source": [
    "work=[]\n",
    "for my_tag in soup.find_all(class_=\"ds-link ds-link--styleSubtle link--darken link--accent u-accentColor--textNormal\"):\n",
    "    work.append(my_tag.text)\n",
    "para=[]\n",
    "for my_tag in soup.find_all(True,{'class':['graf graf--h4 graf-after--h3 graf--trailing graf--subtitle','graf graf--p graf-after--figure','graf graf--p graf-after--h3 graf--trailing']}):\n",
    "    para.append(my_tag.text)\n",
    "title=[]\n",
    "for my_tag in soup.find_all(True,{'class':['graf graf--h3 graf-after--figure graf--title','graf graf--h3 graf--leading graf--title','graf graf--h3 graf-after--figure graf--trailing graf--title']}):\n",
    "    title.append(my_tag.text)\n",
    "read=[]\n",
    "for my_tag in soup.find_all(class_=\"readingTime\"):\n",
    "    read.append(my_tag.get('title'))\n",
    "upvotes=[]\n",
    "for my_tag in soup.find_all('span',{'class':'u-textAlignCenter u-relative u-background js-actionMultirecommendCount u-marginLeft5'}):\n",
    "    upvotes.append(my_tag.text)\n",
    "date=[]\n",
    "for my_tag in soup.find_all('time'):\n",
    "    date.append(my_tag.text)\n",
    "name = []\n",
    "for my_tag in soup.find_all(class_=\"ds-link ds-link--styleSubtle link link--darken link--accent u-accentColor--textNormal u-accentColor--textDarken\"):\n",
    "    name.append(my_tag.text)\n",
    "content=[]\n",
    "alllink=[]\n",
    "for my_tag in soup.find_all(class_=\"postArticle postArticle--short js-postArticle js-trackedPost\"):\n",
    "        content.append(my_tag.text)\n",
    "        for link in my_tag.find_all('a'):\n",
    "            alllink.append(link.get('href'))\n"
   ]
  },
  {
   "cell_type": "markdown",
   "metadata": {},
   "source": [
    "### Add the missing title in the 33rd index"
   ]
  },
  {
   "cell_type": "code",
   "execution_count": 705,
   "metadata": {
    "collapsed": true
   },
   "outputs": [],
   "source": [
    "title.insert(33,'“WTH does a neural network even learn?” — A newcomer’s dilemma')"
   ]
  },
  {
   "cell_type": "code",
   "execution_count": 706,
   "metadata": {},
   "outputs": [],
   "source": [
    "for i in range(0,len(content)):\n",
    "    content[i]=content[i].replace(name[i],'')\n",
    "    content[i]=content[i].replace(date[i],'')\n",
    "    content[i]=content[i].replace(upvotes[i],'')\n",
    "    content[i]=content[i].replace(title[i],'')\n",
    "    content[i]=content[i].replace('…Read more…','*')\n",
    "    content[i]=content[i].replace('Read more…','*')\n",
    "    content[i]=content[i].replace('\\xa0',' ')\n",
    "    content[i]=content[i].replace(' in ', '')\n",
    "    for tag in work:\n",
    "        content[i] = content[i].replace(tag, '')\n",
    "    content[i]=content[i].split('*')\n",
    "body=[]\n",
    "for i in range(0,len(content)):\n",
    "    body.append(content[i][0])\n",
    "\n",
    "res =[]\n",
    "for i in range(0,len(content)):\n",
    "    if (len(content[i]) == 1):\n",
    "        res.append('')\n",
    "    else:\n",
    "        res.append(content[i][1])\n",
    "\n",
    "links=[]\n",
    "for my_tag in soup.find_all(class_=\"button button--smaller button--chromeless u-baseColor--buttonNormal\"):\n",
    "        links.append(my_tag.get('href'))"
   ]
  },
  {
   "cell_type": "code",
   "execution_count": 707,
   "metadata": {},
   "outputs": [],
   "source": [
    "data2 = pd.DataFrame({'1.Tag':'Deep Learning','2.Name':name,'3.Title':title,'4.Body':body,'5.Upvotes':upvotes,'6.Date':date,'7.Comments':res,'8.Link':links}) "
   ]
  },
  {
   "cell_type": "code",
   "execution_count": 708,
   "metadata": {},
   "outputs": [
    {
     "data": {
      "text/html": [
       "<div>\n",
       "<style>\n",
       "    .dataframe thead tr:only-child th {\n",
       "        text-align: right;\n",
       "    }\n",
       "\n",
       "    .dataframe thead th {\n",
       "        text-align: left;\n",
       "    }\n",
       "\n",
       "    .dataframe tbody tr th {\n",
       "        vertical-align: top;\n",
       "    }\n",
       "</style>\n",
       "<table border=\"1\" class=\"dataframe\">\n",
       "  <thead>\n",
       "    <tr style=\"text-align: right;\">\n",
       "      <th></th>\n",
       "      <th>1.Tag</th>\n",
       "      <th>2.Name</th>\n",
       "      <th>3.Title</th>\n",
       "      <th>4.Body</th>\n",
       "      <th>5.Upvotes</th>\n",
       "      <th>6.Date</th>\n",
       "      <th>7.Comments</th>\n",
       "      <th>8.Link</th>\n",
       "    </tr>\n",
       "  </thead>\n",
       "  <tbody>\n",
       "    <tr>\n",
       "      <th>0</th>\n",
       "      <td>Deep Learning</td>\n",
       "      <td>Emmanuel Ameisen</td>\n",
       "      <td>Reinforcement Learning from scratch</td>\n",
       "      <td>Inspired by a great tutorial at O’Reilly AI</td>\n",
       "      <td>912</td>\n",
       "      <td>Jun 7</td>\n",
       "      <td>2 responses</td>\n",
       "      <td>https://blog.insightdatascience.com/reinforcem...</td>\n",
       "    </tr>\n",
       "    <tr>\n",
       "      <th>1</th>\n",
       "      <td>Deep Learning</td>\n",
       "      <td>Irhum Shafkat</td>\n",
       "      <td>Intuitively Understanding Convolutions for Dee...</td>\n",
       "      <td>Exploring the strong visual hierarchies that</td>\n",
       "      <td>1.98K</td>\n",
       "      <td>Jun 1</td>\n",
       "      <td>2 responses</td>\n",
       "      <td>https://towardsdatascience.com/intuitively-und...</td>\n",
       "    </tr>\n",
       "    <tr>\n",
       "      <th>2</th>\n",
       "      <td>Deep Learning</td>\n",
       "      <td>Gant Laborde</td>\n",
       "      <td>Machine Learning: how to go from Zero to Hero</td>\n",
       "      <td>Start with “Why?” and end with “I’m ready!”</td>\n",
       "      <td>1.1K</td>\n",
       "      <td>Jun 6</td>\n",
       "      <td>2 responses</td>\n",
       "      <td>https://medium.freecodecamp.org/machine-learni...</td>\n",
       "    </tr>\n",
       "    <tr>\n",
       "      <th>3</th>\n",
       "      <td>Deep Learning</td>\n",
       "      <td>Aman Dalmia</td>\n",
       "      <td>What I learned from interviewing at multiple A...</td>\n",
       "      <td></td>\n",
       "      <td>2.3K</td>\n",
       "      <td>May 27</td>\n",
       "      <td>13 responses</td>\n",
       "      <td>https://blog.usejournal.com/what-i-learned-fro...</td>\n",
       "    </tr>\n",
       "    <tr>\n",
       "      <th>4</th>\n",
       "      <td>Deep Learning</td>\n",
       "      <td>Abhishek Parbhakar</td>\n",
       "      <td>Must know Information Theory concepts in Deep ...</td>\n",
       "      <td></td>\n",
       "      <td>846</td>\n",
       "      <td>Jun 3</td>\n",
       "      <td>1 response</td>\n",
       "      <td>https://towardsdatascience.com/must-know-infor...</td>\n",
       "    </tr>\n",
       "  </tbody>\n",
       "</table>\n",
       "</div>"
      ],
      "text/plain": [
       "           1.Tag              2.Name  \\\n",
       "0  Deep Learning    Emmanuel Ameisen   \n",
       "1  Deep Learning       Irhum Shafkat   \n",
       "2  Deep Learning        Gant Laborde   \n",
       "3  Deep Learning         Aman Dalmia   \n",
       "4  Deep Learning  Abhishek Parbhakar   \n",
       "\n",
       "                                             3.Title  \\\n",
       "0                Reinforcement Learning from scratch   \n",
       "1  Intuitively Understanding Convolutions for Dee...   \n",
       "2      Machine Learning: how to go from Zero to Hero   \n",
       "3  What I learned from interviewing at multiple A...   \n",
       "4  Must know Information Theory concepts in Deep ...   \n",
       "\n",
       "                                         4.Body 5.Upvotes  6.Date  \\\n",
       "0   Inspired by a great tutorial at O’Reilly AI       912   Jun 7   \n",
       "1  Exploring the strong visual hierarchies that     1.98K   Jun 1   \n",
       "2   Start with “Why?” and end with “I’m ready!”      1.1K   Jun 6   \n",
       "3                                                    2.3K  May 27   \n",
       "4                                                     846   Jun 3   \n",
       "\n",
       "     7.Comments                                             8.Link  \n",
       "0   2 responses  https://blog.insightdatascience.com/reinforcem...  \n",
       "1   2 responses  https://towardsdatascience.com/intuitively-und...  \n",
       "2   2 responses  https://medium.freecodecamp.org/machine-learni...  \n",
       "3  13 responses  https://blog.usejournal.com/what-i-learned-fro...  \n",
       "4    1 response  https://towardsdatascience.com/must-know-infor...  "
      ]
     },
     "execution_count": 708,
     "metadata": {},
     "output_type": "execute_result"
    }
   ],
   "source": [
    "data2.head()"
   ]
  },
  {
   "cell_type": "markdown",
   "metadata": {},
   "source": [
    "## Combine all three tags"
   ]
  },
  {
   "cell_type": "code",
   "execution_count": 720,
   "metadata": {
    "collapsed": true
   },
   "outputs": [],
   "source": [
    "f = data.append(data1, ignore_index=True)"
   ]
  },
  {
   "cell_type": "code",
   "execution_count": 722,
   "metadata": {},
   "outputs": [],
   "source": [
    "alldata = f.append(data2,ignore_index=True)"
   ]
  },
  {
   "cell_type": "code",
   "execution_count": 724,
   "metadata": {},
   "outputs": [
    {
     "data": {
      "text/plain": [
       "(185, 8)"
      ]
     },
     "execution_count": 724,
     "metadata": {},
     "output_type": "execute_result"
    }
   ],
   "source": [
    "alldata.shape"
   ]
  },
  {
   "cell_type": "markdown",
   "metadata": {},
   "source": [
    "## Convert to csv format"
   ]
  },
  {
   "cell_type": "code",
   "execution_count": 740,
   "metadata": {},
   "outputs": [],
   "source": [
    "alldata.to_csv('medium.csv',encoding='utf-8')"
   ]
  },
  {
   "cell_type": "code",
   "execution_count": 741,
   "metadata": {},
   "outputs": [],
   "source": [
    "df = pd.read_csv('medium.csv')"
   ]
  },
  {
   "cell_type": "code",
   "execution_count": 744,
   "metadata": {},
   "outputs": [
    {
     "data": {
      "text/html": [
       "<div>\n",
       "<style>\n",
       "    .dataframe thead tr:only-child th {\n",
       "        text-align: right;\n",
       "    }\n",
       "\n",
       "    .dataframe thead th {\n",
       "        text-align: left;\n",
       "    }\n",
       "\n",
       "    .dataframe tbody tr th {\n",
       "        vertical-align: top;\n",
       "    }\n",
       "</style>\n",
       "<table border=\"1\" class=\"dataframe\">\n",
       "  <thead>\n",
       "    <tr style=\"text-align: right;\">\n",
       "      <th></th>\n",
       "      <th>Unnamed: 0</th>\n",
       "      <th>1.Tag</th>\n",
       "      <th>2.Name</th>\n",
       "      <th>3.Title</th>\n",
       "      <th>4.Body</th>\n",
       "      <th>5.Upvotes</th>\n",
       "      <th>6.Date</th>\n",
       "      <th>7.Comments</th>\n",
       "      <th>8.Link</th>\n",
       "    </tr>\n",
       "  </thead>\n",
       "  <tbody>\n",
       "    <tr>\n",
       "      <th>0</th>\n",
       "      <td>0</td>\n",
       "      <td>Artificial Intelligence</td>\n",
       "      <td>WiseWolf Fund</td>\n",
       "      <td>GAME-CHANGING TRENDS TO LOOK OUT FOR WITH AI</td>\n",
       "      <td>Artificial Intelligence is a state-of-the-art ...</td>\n",
       "      <td>12.9K</td>\n",
       "      <td>Apr 30</td>\n",
       "      <td>10 responses</td>\n",
       "      <td>https://medium.com/@wisewolf_fund/unique-trend...</td>\n",
       "    </tr>\n",
       "    <tr>\n",
       "      <th>1</th>\n",
       "      <td>1</td>\n",
       "      <td>Artificial Intelligence</td>\n",
       "      <td>Justin Lee</td>\n",
       "      <td>Chatbots were the next big thing: what happened?</td>\n",
       "      <td>Oh, how the headlines blared:“…the 2016 bot</td>\n",
       "      <td>7.7K</td>\n",
       "      <td>Jun 5</td>\n",
       "      <td>41 responses</td>\n",
       "      <td>https://medium.com/swlh/chatbots-were-the-next...</td>\n",
       "    </tr>\n",
       "    <tr>\n",
       "      <th>2</th>\n",
       "      <td>2</td>\n",
       "      <td>Artificial Intelligence</td>\n",
       "      <td>Emmanuel Ameisen</td>\n",
       "      <td>Reinforcement Learning from scratch</td>\n",
       "      <td>Inspired by a great tutorial at O’Reilly AI</td>\n",
       "      <td>907</td>\n",
       "      <td>Jun 7</td>\n",
       "      <td>1 response</td>\n",
       "      <td>https://blog.insightdatascience.com/reinforcem...</td>\n",
       "    </tr>\n",
       "    <tr>\n",
       "      <th>3</th>\n",
       "      <td>3</td>\n",
       "      <td>Artificial Intelligence</td>\n",
       "      <td>Irhum Shafkat</td>\n",
       "      <td>Intuitively Understanding Convolutions for Dee...</td>\n",
       "      <td>Exploring the strong visual hierarchies that</td>\n",
       "      <td>1.92K</td>\n",
       "      <td>Jun 1</td>\n",
       "      <td>2 responses</td>\n",
       "      <td>https://towardsdatascience.com/intuitively-und...</td>\n",
       "    </tr>\n",
       "    <tr>\n",
       "      <th>4</th>\n",
       "      <td>4</td>\n",
       "      <td>Artificial Intelligence</td>\n",
       "      <td>Sam Drozdov</td>\n",
       "      <td>An intro to Machine Learning for designers</td>\n",
       "      <td>The basics of machine learning and how to appl...</td>\n",
       "      <td>2.3K</td>\n",
       "      <td>May 30</td>\n",
       "      <td>10 responses</td>\n",
       "      <td>https://uxdesign.cc/an-intro-to-machine-learni...</td>\n",
       "    </tr>\n",
       "  </tbody>\n",
       "</table>\n",
       "</div>"
      ],
      "text/plain": [
       "   Unnamed: 0                    1.Tag            2.Name  \\\n",
       "0           0  Artificial Intelligence     WiseWolf Fund   \n",
       "1           1  Artificial Intelligence        Justin Lee   \n",
       "2           2  Artificial Intelligence  Emmanuel Ameisen   \n",
       "3           3  Artificial Intelligence     Irhum Shafkat   \n",
       "4           4  Artificial Intelligence       Sam Drozdov   \n",
       "\n",
       "                                             3.Title  \\\n",
       "0       GAME-CHANGING TRENDS TO LOOK OUT FOR WITH AI   \n",
       "1   Chatbots were the next big thing: what happened?   \n",
       "2                Reinforcement Learning from scratch   \n",
       "3  Intuitively Understanding Convolutions for Dee...   \n",
       "4         An intro to Machine Learning for designers   \n",
       "\n",
       "                                              4.Body 5.Upvotes  6.Date  \\\n",
       "0  Artificial Intelligence is a state-of-the-art ...     12.9K  Apr 30   \n",
       "1        Oh, how the headlines blared:“…the 2016 bot      7.7K   Jun 5   \n",
       "2        Inspired by a great tutorial at O’Reilly AI       907   Jun 7   \n",
       "3       Exploring the strong visual hierarchies that     1.92K   Jun 1   \n",
       "4  The basics of machine learning and how to appl...      2.3K  May 30   \n",
       "\n",
       "     7.Comments                                             8.Link  \n",
       "0  10 responses  https://medium.com/@wisewolf_fund/unique-trend...  \n",
       "1  41 responses  https://medium.com/swlh/chatbots-were-the-next...  \n",
       "2    1 response  https://blog.insightdatascience.com/reinforcem...  \n",
       "3   2 responses  https://towardsdatascience.com/intuitively-und...  \n",
       "4  10 responses  https://uxdesign.cc/an-intro-to-machine-learni...  "
      ]
     },
     "execution_count": 744,
     "metadata": {},
     "output_type": "execute_result"
    }
   ],
   "source": [
    "df.head()"
   ]
  }
 ],
 "metadata": {
  "kernelspec": {
   "display_name": "Python 3",
   "language": "python",
   "name": "python3"
  },
  "language_info": {
   "codemirror_mode": {
    "name": "ipython",
    "version": 3
   },
   "file_extension": ".py",
   "mimetype": "text/x-python",
   "name": "python",
   "nbconvert_exporter": "python",
   "pygments_lexer": "ipython3",
   "version": "3.6.3"
  }
 },
 "nbformat": 4,
 "nbformat_minor": 2
}
